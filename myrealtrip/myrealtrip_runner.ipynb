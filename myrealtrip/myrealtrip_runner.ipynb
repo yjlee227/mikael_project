{
 "cells": [
  {
   "cell_type": "markdown",
   "metadata": {},
   "source": [
    "# MyRealTrip 크롤러 실행기\n",
    "\n",
    "이 노트북은 리팩토링된 MyRealTrip 크롤링 시스템을 실행하기 위한 단일 실행 지점입니다.\n",
    "- **목표**: `src` 폴더에 모듈화된 코드를 가져와 안정적으로 크롤러를 실행합니다.\n",
    "- **사용법**: 아래 코드 셀의 `TARGET_CITY`와 `MAX_PRODUCTS`만 수정한 후 실행하세요."
   ]
  },
  {
   "cell_type": "code",
   "execution_count": null,
   "metadata": {},
   "outputs": [],
   "source": [
    "# 1. 필요한 모듈 import\n",
    "import sys\n",
    "# 'src' 폴더가 상위 디렉토리에 있다고 가정하고 경로 추가\n",
    "# sys.path.append('..') # 로컬 환경에 따라 경로 조정이 필요할 수 있습니다.\n",
    "from src.scraper.crawler import MyRealTripCrawler\n",
    "\n",
    "# 2. 크롤링 설정\n",
    "TARGET_CITY = \"서울\"       # 원하는 도시 이름으로 변경하세요\n",
    "MAX_PRODUCTS = 5             # 수집할 최대 상품 수\n",
    "USE_INFINITE_SCROLL = True   # MyRealTrip은 무한 스크롤을 사용하므로 True로 설정\n",
    "\n",
    "# 3. 크롤러 생성 및 실행\n",
    "if __name__ == '__main__':\n",
    "    try:\n",
    "        # 크롤러 인스턴스 생성\n",
    "        crawler = MyRealTripCrawler(city_name=TARGET_CITY)\n",
    "        \n",
    "        # 크롤링 실행\n",
    "        crawler.run_crawling(max_products=MAX_PRODUCTS, use_infinite_scroll=USE_INFINITE_SCROLL)\n",
    "        \n",
    "    except ImportError as e:\n",
    "        print(f'='*60)\n",
    "        print(f'❌ 중요: 모듈을 찾을 수 없습니다. 커널을 다시 시작해야 할 수 있습니다.')\n",
    "        print(f'오류: {e}')\n",
    "        print('만약 `src` 폴더가 다른 곳에 있다면, `sys.path.append()`를 사용하여 경로를 지정해주세요.')\n",
    "        print(f'='*60)\n",
    "    except Exception as e:\n",
    "        print(f'크롤링 중 예상치 못한 오류가 발생했습니다: {e}')\n"
   ]
  }
 ],
 "metadata": {
  "kernelspec": {
   "display_name": "Python 3",
   "language": "python",
   "name": "python3"
  },
  "language_info": {
   "codemirror_mode": {
    "name": "ipython",
    "version": 3
   },
   "file_extension": ".py",
   "mimetype": "text/x-python",
   "name": "python",
   "nbconvert_exporter": "python",
   "pygments_lexer": "ipython3",
   "version": "3.10.12"
  }
 },
 "nbformat": 4,
 "nbformat_minor": 4
}
