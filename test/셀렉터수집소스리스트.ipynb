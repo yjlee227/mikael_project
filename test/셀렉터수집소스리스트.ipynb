{
 "cells": [
  {
   "cell_type": "markdown",
   "id": "b0a5e23d",
   "metadata": {},
   "source": [
    "📋 수집할 HTML 소스 전체 목록\n",
    "\n",
    "  🎯 상품 상세페이지에서 수집 (3-5개 서로 다른 상품)\n",
    "\n",
    "  1. 상품명\n",
    "\n",
    "  - 큰 제목 텍스트 클릭 → HTML 복사\n",
    "\n",
    "  2. 가격\n",
    "\n",
    "  - ₩ 숫자 부분 클릭 → HTML 복사\n",
    "\n",
    "  3. 평점/별점\n",
    "\n",
    "  - 별 또는 평점 숫자 클릭 → HTML 복사\n",
    "\n",
    "  4. 메인 상품 이미지\n",
    "\n",
    "  - 대표 사진 클릭 → <img> 태그 HTML 복사\n",
    "\n",
    "  ---\n",
    "  🔍 메인/검색 페이지에서 수집 (1번만)\n",
    "\n",
    "  5. 검색창\n",
    "\n",
    "  - https://www.klook.com/ko/ → 검색창 클릭 → HTML 복사\n",
    "\n",
    "  6. 검색 버튼\n",
    "\n",
    "  - 검색창 옆 돋보기 버튼 클릭 → HTML 복사\n",
    "\n",
    "  ---\n",
    "  📄 검색 결과 페이지에서 수집 (1번만)\n",
    "\n",
    "  7. 다음 페이지 버튼\n",
    "\n",
    "  - 서울 검색 후 → 하단 페이지네이션 → \"다음\" 버튼 클릭 → HTML 복사\n",
    "\n",
    "  ---\n",
    "  ✅ 총 수집 대상\n",
    "\n",
    "  - 상품별 4개 요소 × 3-5개 상품 = 12-20개 HTML 코드\n",
    "  - 공통 3개 요소 = 3개 HTML 코드\n",
    "  - 전체: 15-23개 HTML 코드\n"
   ]
  }
 ],
 "metadata": {
  "kernelspec": {
   "display_name": "mikael_env",
   "language": "python",
   "name": "python3"
  },
  "language_info": {
   "codemirror_mode": {
    "name": "ipython",
    "version": 3
   },
   "file_extension": ".py",
   "mimetype": "text/x-python",
   "name": "python",
   "nbconvert_exporter": "python",
   "pygments_lexer": "ipython3",
   "version": "3.10.18"
  }
 },
 "nbformat": 4,
 "nbformat_minor": 5
}
