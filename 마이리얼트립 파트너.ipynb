{
 "cells": [
  {
   "cell_type": "code",
   "execution_count": 1,
   "id": "430e93dd-ebea-4d30-a160-4bd435e04d7a",
   "metadata": {},
   "outputs": [
    {
     "name": "stdout",
     "output_type": "stream",
     "text": [
      "4.25.0\n",
      "Windows\n"
     ]
    },
    {
     "data": {
      "text/plain": [
       "{}"
      ]
     },
     "execution_count": 1,
     "metadata": {},
     "output_type": "execute_result"
    }
   ],
   "source": [
    "# #--- 초기 패키지 설치(아래 코드가 안될때도 실행) ---#\n",
    "\n",
    "# # (240424) 코드 일부 업데이트되었습니다.\n",
    "\n",
    "#!python -m pip install --upgrade pip\n",
    "#!pip uninstall selenium -y\n",
    "#!pip install selenium==4.25.0\n",
    "\n",
    "\n",
    "#!pip uninstall webdriver-manager -y\n",
    "#!pip install webdriver-manager -U\n",
    "\n",
    "#!pip uninstall undetected_chromedriver -y\n",
    "#!pip install undetected_chromedriver -U\n",
    "#!pip install user_agents\n",
    "\n",
    "#!pip install pyperclip\n",
    "\n",
    "#!pip install chromedriver_autoinstaller\n",
    "\n",
    "\n",
    "\n",
    "#--- 라이브러리 import ---#\n",
    "import pandas as pd\n",
    "# DataFrame을 컨트롤하는 라이브러리\n",
    "\n",
    "import warnings, os, time, shutil, urllib, random\n",
    "# warnings : 파이썬 경고 제어\n",
    "# os : 경로 또는 파일 제어\n",
    "# time : 시간 제어(일정시간 delay등)\n",
    "# shutil : os의 폴더 제어(생성/삭제)\n",
    "# urlib : 특정 url에서 이미지를 받을때 사용\n",
    "\n",
    "warnings.filterwarnings(action='ignore')\n",
    "# 파이썬에서 불필요한 warning은 안뜨게 함\n",
    "\n",
    "from PIL import Image\n",
    "# 파이썬에서 이미지를 다룰때 사용(png등을 불러들여서 리사이즈 저장 등)\n",
    "\n",
    "from selenium.webdriver.chrome.service import Service as ChromeService\n",
    "from webdriver_manager.chrome import ChromeDriverManager\n",
    "from selenium.webdriver.common.by import By\n",
    "from selenium.webdriver.common.keys import Keys\n",
    "# Keys.ARROW_DOWN , Keys.ARROW_LEFT , Keys.ARROW_RIGHT, Keys.ARROW_UP , Keys.BACK_SPACE , Keys.CONTROL, Keys.ALT , Keys.DELETE , \n",
    "# Keys.ENTER , Keys.SHIFT, Keys.SPACE , Keys.TAB , Keys.EQUALS , Keys.ESCAPE, Keys.HOME , Keys.INSERT , PgUp Key,  Keys.PAGE_UP,\n",
    "# Keys.PAGE_DOWN , Keys.F1 , Keys.F2 , Keys.F3 , Keys.F4, Keys.F5 , Keys.F6 , Keys.F7 , Keys.F8 , Keys.F9 , Keys.F10, Keys.F11 , Keys.F12\n",
    "from selenium.webdriver import ActionChains\n",
    "\n",
    "#--- 크롬 드라이버 실행 ---#\n",
    "import chromedriver_autoinstaller, random, os\n",
    "chromedriver_autoinstaller.install()\n",
    "\n",
    "import undetected_chromedriver as uc\n",
    "from user_agents import parse\n",
    "\n",
    "import selenium\n",
    "print(selenium.__version__)\n",
    "\n",
    "\n",
    "def make_user_agent(ua,is_mobile):\n",
    "    user_agent = parse(ua)\n",
    "    model = user_agent.device.model\n",
    "    platform = user_agent.os.family\n",
    "    platform_version = user_agent.os.version_string + \".0.0\"\n",
    "    version = user_agent.browser.version[0]\n",
    "    ua_full_version = user_agent.browser.version_string\n",
    "    architecture = \"x86\"\n",
    "    print(platform)\n",
    "    if is_mobile:\n",
    "        platform_info = \"Linux armv8l\"\n",
    "        architecture= \"\"\n",
    "    else: # Window\n",
    "        platform_info = \"Win32\"\n",
    "        model = \"\"\n",
    "    RET_USER_AGENT = {\n",
    "        \"appVersion\" : ua.replace(\"Mozilla/\", \"\"),\n",
    "        \"userAgent\": ua,\n",
    "        \"platform\" : f\"{platform_info}\",\n",
    "        \"acceptLanguage\" : \"ko-KR, kr, en-US, en\",\n",
    "        \"userAgentMetadata\":{\n",
    "            \"brands\" : [\n",
    "                {\"brand\":\"Google Chrome\", \"version\":f\"{version}\"},\n",
    "                {\"brand\":\"Chromium\", \"version\":f\"{version}\"},\n",
    "                {\"brand\":\" Not A;Brand\", \"version\":\"99\"}\n",
    "            ],\n",
    "            \"fullVersionList\" : [\n",
    "                {\"brand\":\"Google Chrome\", \"version\":f\"{version}\"},\n",
    "                {\"brand\":\"Chromium\", \"version\":f\"{version}\"},\n",
    "                {\"brand\":\" Not A;Brand\", \"version\":\"99\"}\n",
    "            ],\n",
    "            \"fullVersion\":f\"{ua_full_version}\",\n",
    "            \"platform\" :platform,\n",
    "            \"platformVersion\":platform_version,\n",
    "            \"architecture\":architecture,\n",
    "            \"model\" : model,\n",
    "            \"mobile\":is_mobile #True, False\n",
    "        }\n",
    "    }\n",
    "    return RET_USER_AGENT\n",
    "\n",
    "\n",
    "def generate_random_geolocation():\n",
    "    ltop_lat = 37.75415601640249\n",
    "    ltop_long = 126.86767642302573\n",
    "    rbottom_lat = 37.593829172663945\n",
    "    rbottom_long = 127.15276051439332\n",
    "\n",
    "    targetLat = random.uniform(rbottom_lat, ltop_lat)\n",
    "    targetLong = random.uniform(ltop_long,rbottom_long)\n",
    "    return {\"latitude\":targetLat, \"longitude\" : targetLong, \"accuracy\":100}\n",
    "\n",
    "\n",
    "options = uc.ChromeOptions()\n",
    "\n",
    "UA = \"Mozilla/5.0 (Windows NT 10.0; Win64; x64) AppleWebKit/537.36 (KHTML, like Gecko) Chrome/122.0.0.0 Safari/537.36 Edg/122.0.0.0\"\n",
    "options.add_argument(f\"--user-agent={UA}\")\n",
    "# User Agent 확인 : https://www.whatismybrowser.com/detect/what-is-my-user-agent/ \n",
    "# [중요] 위에 링크에서 나오는 값을 UA에 넣어줘야 함 \n",
    "\n",
    "rand_user_folder = random.randrange(1,100)\n",
    "raw_path = os.path.abspath(\"cookies\")\n",
    "try:\n",
    "    shutil.rmtree(raw_path)\n",
    "except:\n",
    "    pass\n",
    "os.makedirs(raw_path, exist_ok=True)\n",
    "user_cookie_name = f\"{raw_path}/{rand_user_folder}\"\n",
    "if os.path.exists(user_cookie_name) == False:\n",
    "    os.makedirs(user_cookie_name, exist_ok=True)\n",
    "# options.user_data_dir = user_cookie_name\n",
    "# 쿠키 랜덤 설정\n",
    "\n",
    "\n",
    "try:\n",
    "    driver = uc.Chrome(user_data_dir=user_cookie_name, option = options)\n",
    "except Exception as e:\n",
    "    print('\\n',\"-\"*50,\"\\n\",\"-\"*50,\"\\n\")\n",
    "    print(\"# 키홈 메세지 : 혹시 여기서 에러 발생시 [아래 블로그 참고 -> 재부팅 -> 다시 코드실행] 해보시길 바랍니다! \\n (구글크롬 버젼 업그레이드 문제)\")\n",
    "    print('https://appfollow.tistory.com/102')  # 에러 메시지를 출력\n",
    "    print('\\n',\"-\"*50,\"\\n\",\"-\"*50,\"\\n\")\n",
    "    raise RuntimeError\n",
    "\n",
    "    \n",
    "UA_Data = make_user_agent(UA,False)\n",
    "driver.execute_cdp_cmd(\"Network.setUserAgentOverride\",UA_Data)\n",
    "# # user agent data 설정\n",
    "\n",
    "GEO_DATA = generate_random_geolocation()\n",
    "driver.execute_cdp_cmd(\"Emulation.setGeolocationOverride\", GEO_DATA)\n",
    "driver.execute_cdp_cmd(\"Emulation.setUserAgentOverride\", UA_Data)\n",
    "driver.execute_cdp_cmd(\"Emulation.setNavigatorOverrides\",{\"platform\":\"Linux armv8l\"})"
   ]
  },
  {
   "cell_type": "code",
   "execution_count": 9,
   "id": "6374a3c1-24fe-4e52-a16d-f1a2a053dd65",
   "metadata": {},
   "outputs": [],
   "source": [
    "driver.get(\"https://partner.myrealtrip.com/signin?return_to=%2Fpartnership-marketing%2Flink-generator\")\n",
    "time.sleep(random.uniform(3,8))\n",
    "#마이리얼트립 파트너 페이지 열기"
   ]
  },
  {
   "cell_type": "code",
   "execution_count": 4,
   "id": "ff8fa1ab-1bb8-4394-9e0e-75c37ea23be3",
   "metadata": {},
   "outputs": [],
   "source": [
    "elem = driver.find_element(\"xpath\", \"/html/body/div[1]/div[2]/div/form/div[2]/input\")\n",
    "elem.send_keys(\"allcrowd@naver.com\")\n",
    "time.sleep(random.uniform(3,5))\n",
    "#아이디 입력"
   ]
  },
  {
   "cell_type": "code",
   "execution_count": 5,
   "id": "2b287962-8bb3-47a1-b12d-352b58ffc8d3",
   "metadata": {},
   "outputs": [],
   "source": [
    "elem = driver.find_element(\"xpath\", \"/html/body/div[1]/div[2]/div/form/div[4]/input\")\n",
    "elem.send_keys(\"osaka2002.\")\n",
    "time.sleep(random.uniform(3,5))\n",
    "#패스워드 입력"
   ]
  },
  {
   "cell_type": "code",
   "execution_count": 6,
   "id": "6b79e9ba-ebb6-4f66-a570-775a58093213",
   "metadata": {},
   "outputs": [],
   "source": [
    "elem = driver.find_element(\"xpath\", \"/html/body/div[1]/div[2]/div/form/label/input\")\n",
    "elem.click()\n",
    "time.sleep(random.uniform(3,5))\n",
    "#로그인유지 클릭"
   ]
  },
  {
   "cell_type": "code",
   "execution_count": 7,
   "id": "bd4a0fec-a889-40ee-bc09-36496366ddae",
   "metadata": {},
   "outputs": [],
   "source": [
    "elem = driver.find_element(\"xpath\", \"/html/body/div[1]/div[2]/div/form/div[5]/button\")\n",
    "elem.click()\n",
    "time.sleep(random.uniform(3,5))\n",
    "#파트너 로그인 클릭"
   ]
  },
  {
   "cell_type": "code",
   "execution_count": 8,
   "id": "02f16afe-b7dd-4174-acab-4690339d0fb1",
   "metadata": {},
   "outputs": [],
   "source": [
    "elem = driver.find_element(\"xpath\", \"/html/body/div[3]/div/div[2]/div/div[2]/div[2]/div/div/button[1]/div/span/span\")\n",
    "elem.click()\n",
    "time.sleep(random.uniform(3,5))\n",
    "#알림창 7일간 보지 않기 클릭"
   ]
  },
  {
   "cell_type": "code",
   "execution_count": 10,
   "id": "2f09ad47-f275-459a-acf8-84f2e79f40b6",
   "metadata": {},
   "outputs": [],
   "source": [
    "elem = driver.find_element(\"xpath\", \"/html/body/div[1]/section/section/main/main/div[2]/div[1]/div[1]/div/div[2]/div\")\n",
    "elem.click()\n",
    "time.sleep(random.uniform(3,5))\n",
    "#그 외 모든상품 클릭(광고링크만들기)"
   ]
  },
  {
   "cell_type": "code",
   "execution_count": 12,
   "id": "466c603b-a79e-4830-b46d-94c8edeb7285",
   "metadata": {},
   "outputs": [],
   "source": [
    "elem = driver.find_element(\"xpath\", \"/html/body/div[1]/section/section/main/main/div[2]/div[2]/div/div[2]/section/div/div[1]/div/div/span/input\")\n",
    "elem.send_keys(\"https://www.myrealtrip.com/offers/22027\")\n",
    "time.sleep(random.uniform(3,5))\n",
    "#광고 링크 url입력"
   ]
  },
  {
   "cell_type": "code",
   "execution_count": 13,
   "id": "24d3d4c2-4d93-48b7-af50-fc0f1c363ec1",
   "metadata": {},
   "outputs": [],
   "source": [
    "elem = driver.find_element(\"xpath\", \"/html/body/div[1]/section/section/main/main/div[2]/div[2]/div/div[2]/section/div/div[1]/button\")\n",
    "elem.click()\n",
    "time.sleep(random.uniform(3,5))\n",
    "#홍보링크만들기 클릭"
   ]
  },
  {
   "cell_type": "code",
   "execution_count": null,
   "id": "452f3bb2-d8d3-4362-bd04-946f4bfd5e47",
   "metadata": {},
   "outputs": [],
   "source": [
    "elem = driver.find_element(\"xpath\", \"/html/body/div[1]/section/section/main/main/div[2]/div[2]/div/div[2]/section/div/div[2]/div/div/button/div/span\")\n",
    "elem.click()\n",
    "time.sleep(random.uniform(3,5))\n",
    "#링크복사 클릭"
   ]
  },
  {
   "cell_type": "code",
   "execution_count": null,
   "id": "99821d07-97eb-4d83-80d7-5de75ea3d632",
   "metadata": {},
   "outputs": [],
   "source": []
  },
  {
   "cell_type": "code",
   "execution_count": null,
   "id": "9753d490-c5d8-49a6-9778-54c1d1510834",
   "metadata": {},
   "outputs": [],
   "source": []
  },
  {
   "cell_type": "code",
   "execution_count": null,
   "id": "adc4a42e-cb4a-4272-bcff-3f0a5d2ad42b",
   "metadata": {},
   "outputs": [],
   "source": []
  },
  {
   "cell_type": "code",
   "execution_count": null,
   "id": "c3a12292-add5-45a8-9d8e-97448bf14085",
   "metadata": {},
   "outputs": [],
   "source": []
  },
  {
   "cell_type": "code",
   "execution_count": null,
   "id": "ddb0084a-70b2-447a-b16e-3f6ef53568e9",
   "metadata": {},
   "outputs": [],
   "source": [
    "/html/body/div[1]/section/section/main/main/div[2]/div[2]/div/div[2]/section/div/div[1]/div/div/span/input"
   ]
  },
  {
   "cell_type": "code",
   "execution_count": null,
   "id": "7940a870-630a-4419-9ce6-3523d9354901",
   "metadata": {},
   "outputs": [],
   "source": []
  },
  {
   "cell_type": "code",
   "execution_count": null,
   "id": "34e3f67a-6334-4091-89bb-4bcd48356606",
   "metadata": {},
   "outputs": [],
   "source": []
  },
  {
   "cell_type": "code",
   "execution_count": null,
   "id": "449445d7-a980-4d85-b2fa-ccadf32e1650",
   "metadata": {},
   "outputs": [],
   "source": []
  },
  {
   "cell_type": "code",
   "execution_count": null,
   "id": "87f1f2ff-c106-448a-8206-42a40d75c69b",
   "metadata": {},
   "outputs": [],
   "source": []
  },
  {
   "cell_type": "code",
   "execution_count": null,
   "id": "0cba0ef3-b65b-4866-8199-614018c04b8a",
   "metadata": {},
   "outputs": [],
   "source": [
    "https://partner.myrealtrip.com/signin?return_to=%2Fpartnership-marketing%2Flink-generator"
   ]
  }
 ],
 "metadata": {
  "kernelspec": {
   "display_name": "Python 3 (ipykernel)",
   "language": "python",
   "name": "python3"
  },
  "language_info": {
   "codemirror_mode": {
    "name": "ipython",
    "version": 3
   },
   "file_extension": ".py",
   "mimetype": "text/x-python",
   "name": "python",
   "nbconvert_exporter": "python",
   "pygments_lexer": "ipython3",
   "version": "3.12.7"
  }
 },
 "nbformat": 4,
 "nbformat_minor": 5
}
