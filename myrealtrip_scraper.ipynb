{
 "cells": [
  {
   "cell_type": "code",
   "execution_count": 1,
   "id": "b23a5273-2e16-47c0-932b-e9f14c1ff5b9",
   "metadata": {},
   "outputs": [
    {
     "name": "stdout",
     "output_type": "stream",
     "text": [
      "4.25.0\n",
      "Windows\n"
     ]
    },
    {
     "data": {
      "text/plain": [
       "{}"
      ]
     },
     "execution_count": 1,
     "metadata": {},
     "output_type": "execute_result"
    }
   ],
   "source": [
    "# #--- 초기 패키지 설치(아래 코드가 안될때도 실행) ---#\n",
    "\n",
    "# # (240424) 코드 일부 업데이트되었습니다.\n",
    "\n",
    "#!python -m pip install --upgrade pip\n",
    "#!pip uninstall selenium -y\n",
    "#!pip install selenium==4.25.0\n",
    "\n",
    "\n",
    "#!pip uninstall webdriver-manager -y\n",
    "#!pip install webdriver-manager -U\n",
    "\n",
    "#!pip uninstall undetected_chromedriver -y\n",
    "#!pip install undetected_chromedriver -U\n",
    "#!pip install user_agents\n",
    "\n",
    "#!pip install pyperclip\n",
    "\n",
    "#!pip install chromedriver_autoinstaller\n",
    "\n",
    "\n",
    "\n",
    "#--- 라이브러리 import ---#\n",
    "import pandas as pd\n",
    "# DataFrame을 컨트롤하는 라이브러리\n",
    "\n",
    "import warnings, os, time, shutil, urllib, random\n",
    "# warnings : 파이썬 경고 제어\n",
    "# os : 경로 또는 파일 제어\n",
    "# time : 시간 제어(일정시간 delay등)\n",
    "# shutil : os의 폴더 제어(생성/삭제)\n",
    "# urlib : 특정 url에서 이미지를 받을때 사용\n",
    "\n",
    "warnings.filterwarnings(action='ignore')\n",
    "# 파이썬에서 불필요한 warning은 안뜨게 함\n",
    "\n",
    "from PIL import Image\n",
    "# 파이썬에서 이미지를 다룰때 사용(png등을 불러들여서 리사이즈 저장 등)\n",
    "\n",
    "from selenium.webdriver.chrome.service import Service as ChromeService\n",
    "from webdriver_manager.chrome import ChromeDriverManager\n",
    "from selenium.webdriver.common.by import By\n",
    "from selenium.webdriver.common.keys import Keys\n",
    "# Keys.ARROW_DOWN , Keys.ARROW_LEFT , Keys.ARROW_RIGHT, Keys.ARROW_UP , Keys.BACK_SPACE , Keys.CONTROL, Keys.ALT , Keys.DELETE , \n",
    "# Keys.ENTER , Keys.SHIFT, Keys.SPACE , Keys.TAB , Keys.EQUALS , Keys.ESCAPE, Keys.HOME , Keys.INSERT , PgUp Key,  Keys.PAGE_UP,\n",
    "# Keys.PAGE_DOWN , Keys.F1 , Keys.F2 , Keys.F3 , Keys.F4, Keys.F5 , Keys.F6 , Keys.F7 , Keys.F8 , Keys.F9 , Keys.F10, Keys.F11 , Keys.F12\n",
    "from selenium.webdriver import ActionChains\n",
    "\n",
    "#--- 크롬 드라이버 실행 ---#\n",
    "import chromedriver_autoinstaller, random, os\n",
    "chromedriver_autoinstaller.install()\n",
    "\n",
    "import undetected_chromedriver as uc\n",
    "from user_agents import parse\n",
    "\n",
    "import selenium\n",
    "print(selenium.__version__)\n",
    "\n",
    "\n",
    "def make_user_agent(ua,is_mobile):\n",
    "    user_agent = parse(ua)\n",
    "    model = user_agent.device.model\n",
    "    platform = user_agent.os.family\n",
    "    platform_version = user_agent.os.version_string + \".0.0\"\n",
    "    version = user_agent.browser.version[0]\n",
    "    ua_full_version = user_agent.browser.version_string\n",
    "    architecture = \"x86\"\n",
    "    print(platform)\n",
    "    if is_mobile:\n",
    "        platform_info = \"Linux armv8l\"\n",
    "        architecture= \"\"\n",
    "    else: # Window\n",
    "        platform_info = \"Win32\"\n",
    "        model = \"\"\n",
    "    RET_USER_AGENT = {\n",
    "        \"appVersion\" : ua.replace(\"Mozilla/\", \"\"),\n",
    "        \"userAgent\": ua,\n",
    "        \"platform\" : f\"{platform_info}\",\n",
    "        \"acceptLanguage\" : \"ko-KR, kr, en-US, en\",\n",
    "        \"userAgentMetadata\":{\n",
    "            \"brands\" : [\n",
    "                {\"brand\":\"Google Chrome\", \"version\":f\"{version}\"},\n",
    "                {\"brand\":\"Chromium\", \"version\":f\"{version}\"},\n",
    "                {\"brand\":\" Not A;Brand\", \"version\":\"99\"}\n",
    "            ],\n",
    "            \"fullVersionList\" : [\n",
    "                {\"brand\":\"Google Chrome\", \"version\":f\"{version}\"},\n",
    "                {\"brand\":\"Chromium\", \"version\":f\"{version}\"},\n",
    "                {\"brand\":\" Not A;Brand\", \"version\":\"99\"}\n",
    "            ],\n",
    "            \"fullVersion\":f\"{ua_full_version}\",\n",
    "            \"platform\" :platform,\n",
    "            \"platformVersion\":platform_version,\n",
    "            \"architecture\":architecture,\n",
    "            \"model\" : model,\n",
    "            \"mobile\":is_mobile #True, False\n",
    "        }\n",
    "    }\n",
    "    return RET_USER_AGENT\n",
    "\n",
    "\n",
    "def generate_random_geolocation():\n",
    "    ltop_lat = 37.75415601640249\n",
    "    ltop_long = 126.86767642302573\n",
    "    rbottom_lat = 37.593829172663945\n",
    "    rbottom_long = 127.15276051439332\n",
    "\n",
    "    targetLat = random.uniform(rbottom_lat, ltop_lat)\n",
    "    targetLong = random.uniform(ltop_long,rbottom_long)\n",
    "    return {\"latitude\":targetLat, \"longitude\" : targetLong, \"accuracy\":100}\n",
    "\n",
    "\n",
    "options = uc.ChromeOptions()\n",
    "\n",
    "UA = \"Mozilla/5.0 (Windows NT 10.0; Win64; x64) AppleWebKit/537.36 (KHTML, like Gecko) Chrome/122.0.0.0 Safari/537.36 Edg/122.0.0.0\"\n",
    "options.add_argument(f\"--user-agent={UA}\")\n",
    "# User Agent 확인 : https://www.whatismybrowser.com/detect/what-is-my-user-agent/ \n",
    "# [중요] 위에 링크에서 나오는 값을 UA에 넣어줘야 함 \n",
    "\n",
    "rand_user_folder = random.randrange(1,100)\n",
    "raw_path = os.path.abspath(\"cookies\")\n",
    "try:\n",
    "    shutil.rmtree(raw_path)\n",
    "except:\n",
    "    pass\n",
    "os.makedirs(raw_path, exist_ok=True)\n",
    "user_cookie_name = f\"{raw_path}/{rand_user_folder}\"\n",
    "if os.path.exists(user_cookie_name) == False:\n",
    "    os.makedirs(user_cookie_name, exist_ok=True)\n",
    "# options.user_data_dir = user_cookie_name\n",
    "# 쿠키 랜덤 설정\n",
    "\n",
    "\n",
    "try:\n",
    "    driver = uc.Chrome(user_data_dir=user_cookie_name, option = options)\n",
    "except Exception as e:\n",
    "    print('\\n',\"-\"*50,\"\\n\",\"-\"*50,\"\\n\")\n",
    "    print(\"# 키홈 메세지 : 혹시 여기서 에러 발생시 [아래 블로그 참고 -> 재부팅 -> 다시 코드실행] 해보시길 바랍니다! \\n (구글크롬 버젼 업그레이드 문제)\")\n",
    "    print('https://appfollow.tistory.com/102')  # 에러 메시지를 출력\n",
    "    print('\\n',\"-\"*50,\"\\n\",\"-\"*50,\"\\n\")\n",
    "    raise RuntimeError\n",
    "\n",
    "    \n",
    "UA_Data = make_user_agent(UA,False)\n",
    "driver.execute_cdp_cmd(\"Network.setUserAgentOverride\",UA_Data)\n",
    "# # user agent data 설정\n",
    "\n",
    "GEO_DATA = generate_random_geolocation()\n",
    "driver.execute_cdp_cmd(\"Emulation.setGeolocationOverride\", GEO_DATA)\n",
    "driver.execute_cdp_cmd(\"Emulation.setUserAgentOverride\", UA_Data)\n",
    "driver.execute_cdp_cmd(\"Emulation.setNavigatorOverrides\",{\"platform\":\"Linux armv8l\"})"
   ]
  },
  {
   "cell_type": "code",
   "execution_count": 2,
   "id": "6ce8bdd4-d598-4095-a6cc-0d1ec2cfd7e7",
   "metadata": {},
   "outputs": [],
   "source": [
    "# pip install selenium webdriver-manager selenium-stealth"
   ]
  },
  {
   "cell_type": "code",
   "execution_count": 20,
   "id": "3c275abf-0f61-416e-8572-d758b6139a5e",
   "metadata": {},
   "outputs": [],
   "source": [
    "driver.get(\"https://www.myrealtrip.com/experiences/\")\n",
    "time.sleep(random.uniform(3,8))\n",
    "#마이리얼트립 투어/티켓 초기진입 페이지 열기"
   ]
  },
  {
   "cell_type": "code",
   "execution_count": 21,
   "id": "2caf50df-826f-472b-9a8c-ee54c0506a12",
   "metadata": {},
   "outputs": [],
   "source": [
    "elem = driver.find_element(\"xpath\", \"/html/body/main/div/div[2]/section[1]/div[1]/div/div/input\")\n",
    "elem.send_keys(\"방콕\")\n",
    "time.sleep(random.uniform(3,5))\n",
    "#방콕 키워드 입력 \n",
    "\n",
    "elem = driver.find_element(\"xpath\", \"/html/body/main/div/div[2]/section[1]/div[1]/div/div/div/img\")\n",
    "elem.click()\n",
    "time.sleep(random.uniform(3,7))\n",
    "# 검색 클릭"
   ]
  },
  {
   "cell_type": "code",
   "execution_count": 22,
   "id": "96d99404-07ce-40b4-8f4c-f96e28e98c59",
   "metadata": {},
   "outputs": [
    {
     "name": "stdout",
     "output_type": "stream",
     "text": [
      "팝업창 닫기 버튼을 찾고 있습니다...\n",
      "팝업 처리 중 알 수 없는 오류 발생: name 'WAIT_TIMEOUT' is not defined. 건너뛰고 다음을 진행합니다.\n"
     ]
    }
   ],
   "source": [
    "import time\n",
    "import random\n",
    "# 아래 import 문들이 코드 상단에 있는지 다시 한번 확인해주세요!\n",
    "from selenium.webdriver.common.by import By\n",
    "from selenium.webdriver.support.ui import WebDriverWait\n",
    "from selenium.webdriver.support import expected_conditions as EC\n",
    "from selenium.common.exceptions import TimeoutException, NoSuchElementException\n",
    "\n",
    "# 이 변수들은 사용자 코드의 상단에 정의되어 있어야 합니다.\n",
    "# driver = webdriver.Chrome() # 예시: WebDriver 초기화 (실제 사용하시는 드라이버 초기화 코드로 대체)\n",
    "# WAIT_TIMEOUT = 10 # 예시: 대기 시간 (초)\n",
    "\n",
    "# 팝업 닫기 버튼의 Selector를 정의합니다.\n",
    "# 말씀하신 XPath가 바로 여기에 사용됩니다.\n",
    "POPUP_CLOSE_BUTTON_SELECTOR = (By.XPATH, \"/html/body/div[15]/div[2]/button\")\n",
    "\n",
    "try:\n",
    "    print(\"팝업창 닫기 버튼을 찾고 있습니다...\")\n",
    "    # 팝업 닫기 버튼이 클릭 가능할 때까지 기다립니다. (최대 WAIT_TIMEOUT 초)\n",
    "    elem = WebDriverWait(driver, WAIT_TIMEOUT).until(\n",
    "        EC.element_to_be_clickable(POPUP_CLOSE_BUTTON_SELECTOR)\n",
    "    )\n",
    "    \n",
    "    elem.click()\n",
    "    print(\"팝업창을 성공적으로 닫았습니다.\")\n",
    "    time.sleep(random.uniform(1, 4)) # 팝업이 닫히는 애니메이션 등을 위해 잠시 대기\n",
    "    \n",
    "except TimeoutException:\n",
    "    print(\"팝업창이 뜨지 않았거나, 지정된 시간 내에 팝업창을 찾을 수 없었습니다. 건너뛰고 다음을 진행합니다.\")\n",
    "except NoSuchElementException:\n",
    "    print(\"팝업 닫기 버튼 요소를 찾을 수 없습니다. 건너뛰고 다음을 진행합니다.\")\n",
    "except Exception as e:\n",
    "    print(f\"팝업 처리 중 알 수 없는 오류 발생: {e}. 건너뛰고 다음을 진행합니다.\")\n",
    "\n",
    "# 이 블록 뒤의 코드는 팝업 처리 결과와 상관없이 계속 실행됩니다."
   ]
  },
  {
   "cell_type": "code",
   "execution_count": 38,
   "id": "50bcd96a-c8d3-423f-a150-615ae5875cad",
   "metadata": {},
   "outputs": [],
   "source": [
    "import shutil\n",
    "img_folder_path = os.path.abspath(\"\") + \"/myrealtripthumb_img\"\n",
    "# root 경로 + 이미지 폴더 경로\n",
    "\n",
    "try:\n",
    "    shutil.rmtree(img_folder_path)\n",
    "except:\n",
    "    pass\n",
    "# 폴더 삭제(초기화)\n",
    "\n",
    "os.makedirs(img_folder_path, exist_ok=True)\n",
    "# 폴더 다시 생성\n",
    "# 썸네일 폴더 생성"
   ]
  },
  {
   "cell_type": "code",
   "execution_count": 27,
   "id": "ad875e47-6d48-4068-88c5-a738f4aecd90",
   "metadata": {},
   "outputs": [],
   "source": [
    "elem = driver.find_element(\"xpath\", \"/html/body/div[4]/div[2]/div/div/div/span[21]/button\")\n",
    "elem.click()\n",
    "time.sleep(random.uniform(3,6))\n",
    "#전체 상품보기 클릭"
   ]
  },
  {
   "cell_type": "code",
   "execution_count": 45,
   "id": "418ca570-3bbc-4dab-bae2-7b080851597a",
   "metadata": {},
   "outputs": [
    {
     "ename": "SyntaxError",
     "evalue": "incomplete input (2313008308.py, line 1)",
     "output_type": "error",
     "traceback": [
      "\u001b[1;36m  Cell \u001b[1;32mIn[45], line 1\u001b[1;36m\u001b[0m\n\u001b[1;33m    for idx in range(0,24):\u001b[0m\n\u001b[1;37m                           ^\u001b[0m\n\u001b[1;31mSyntaxError\u001b[0m\u001b[1;31m:\u001b[0m incomplete input\n"
     ]
    }
   ],
   "source": [
    "for idx in range(0,24):"
   ]
  },
  {
   "cell_type": "code",
   "execution_count": 28,
   "id": "c2b4c3f2-1f09-42ee-b43b-fef18493f496",
   "metadata": {},
   "outputs": [],
   "source": [
    "elem = driver.find_element(\"xpath\", \"/html/body/div[4]/div[2]/div/div/div[2]/main/div/div[3]/a[1]/div/div/img\")\n",
    "elem.click()\n",
    "time.sleep(random.uniform(3,6))\n",
    "#1번째상품 클릭"
   ]
  },
  {
   "cell_type": "code",
   "execution_count": 29,
   "id": "f51777ee-7276-4d94-9537-98594dd58dac",
   "metadata": {},
   "outputs": [
    {
     "name": "stdout",
     "output_type": "stream",
     "text": [
      "벨럭, 방콕 호텔→수완나품 공항/ 방콕 호텔간 짐 배송 서비스\n"
     ]
    }
   ],
   "source": [
    "elem = driver.find_element(\"xpath\", \"/html/body/div[1]/main/div[1]/section/div[1]/h1\")\n",
    "product_name = elem.text\n",
    "print(product_name)\n",
    "time.sleep(random.uniform(3,5))\n",
    "#상품명 프린트"
   ]
  },
  {
   "cell_type": "code",
   "execution_count": 31,
   "id": "3f669aeb-4bde-47ee-b4f1-fd75eecd078e",
   "metadata": {},
   "outputs": [
    {
     "name": "stdout",
     "output_type": "stream",
     "text": [
      "5,310원~\n"
     ]
    }
   ],
   "source": [
    "elem = driver.find_element(\"xpath\", \"/html/body/div[1]/main/div[1]/div[4]/div/div/div[2]/span[2]\")\n",
    "price = elem.text\n",
    "time.sleep(random.uniform(3,5))\n",
    "print(price)\n",
    "#상품가 프린트와 가격 숫자로 변환  "
   ]
  },
  {
   "cell_type": "code",
   "execution_count": 37,
   "id": "8fb1e7f9-705c-4075-9bee-f11bca26e542",
   "metadata": {},
   "outputs": [
    {
     "name": "stdout",
     "output_type": "stream",
     "text": [
      "4.9 ·\n",
      "후기 2,740개\n"
     ]
    }
   ],
   "source": [
    "elem = driver.find_element(\"xpath\", \"/html/body/div[1]/main/div[1]/section/div[1]/span/span[2]\")\n",
    "grade_review = elem.text\n",
    "print(grade_review)\n",
    "time.sleep(random.uniform(3,5))\n",
    "#평점 프린트\n",
    "\n",
    "elem = driver.find_element(\"xpath\", \"/html/body/div[1]/main/div[1]/section/div[1]/span/span[3]\")\n",
    "grade_review = elem.text\n",
    "print(grade_review)\n",
    "time.sleep(random.uniform(3,5))\n",
    "#평점 프린트"
   ]
  },
  {
   "cell_type": "code",
   "execution_count": 42,
   "id": "1b13c702-0f22-4809-965d-f305f7b64e28",
   "metadata": {},
   "outputs": [
    {
     "data": {
      "text/plain": [
       "('C:\\\\Users\\\\youngjae\\\\mikael_project/myrealtripthumb_img/벨럭, 방콕 호텔→수완나품 공항_ 방콕 호텔간 짐 배송 서비스.png',\n",
       " <http.client.HTTPMessage at 0x1975cf6da00>)"
      ]
     },
     "execution_count": 42,
     "metadata": {},
     "output_type": "execute_result"
    }
   ],
   "source": [
    "elem = driver.find_element(\"xpath\", \"/html/body/div[1]/main/div[1]/section/div[3]/div/div/div/div[1]/div/div/div/div/img\")\n",
    "img_url = elem.get_attribute('src')\n",
    "# 이미지 정보 가져오기\n",
    "\n",
    "safe_product_name = product_name.replace(\"/\", \"_\").replace(\"\\\\\", \"_\").replace(\":\", \"_\").replace(\"*\", \"_\").replace(\"?\", \"_\").replace(\"\\\"\", \"_\").replace(\"<\", \"_\").replace(\">\", \"_\").replace(\"|\", \"_\")\n",
    "# 상품명을 파일명으로 사용 (파일명에 사용할 수 없는 문자 제거)\n",
    "\n",
    "img_path = os.path.abspath(\"\") + \"/myrealtripthumb_img/\" + safe_product_name + \".png\"\n",
    "# 이미지 경로 설정\n",
    "\n",
    "urllib.request.urlretrieve(img_url, img_path)\n",
    "# 이미지 다운로드"
   ]
  },
  {
   "cell_type": "code",
   "execution_count": 44,
   "id": "ce3b947f-7c31-4988-aba7-647a48caac92",
   "metadata": {},
   "outputs": [
    {
     "name": "stdout",
     "output_type": "stream",
     "text": [
      "https://experiences.myrealtrip.com/products/3443042\n"
     ]
    }
   ],
   "source": [
    "CURRENT_URL = driver.current_url\n",
    "print(CURRENT_URL)\n",
    "#현재 페이지 url\n",
    "\n",
    "time.sleep(random.uniform(3, 5))"
   ]
  },
  {
   "cell_type": "code",
   "execution_count": null,
   "id": "61769a07-a60c-4a02-a4e0-14a22f17f08f",
   "metadata": {},
   "outputs": [],
   "source": []
  },
  {
   "cell_type": "code",
   "execution_count": null,
   "id": "0f17d2bf-efdf-45f6-bc70-892a5978b7ba",
   "metadata": {},
   "outputs": [],
   "source": []
  },
  {
   "cell_type": "code",
   "execution_count": null,
   "id": "c93dc041-d556-4c63-9b42-0d57206bf43a",
   "metadata": {},
   "outputs": [],
   "source": []
  },
  {
   "cell_type": "code",
   "execution_count": null,
   "id": "a2e09007-5b80-431f-9b4d-110981dc0745",
   "metadata": {},
   "outputs": [],
   "source": []
  },
  {
   "cell_type": "code",
   "execution_count": null,
   "id": "8b14fd91-45e0-475b-aa0f-139ef6100498",
   "metadata": {},
   "outputs": [],
   "source": []
  },
  {
   "cell_type": "code",
   "execution_count": null,
   "id": "99b1fd24-91d7-494e-a49c-46ea96932c07",
   "metadata": {},
   "outputs": [],
   "source": []
  },
  {
   "cell_type": "code",
   "execution_count": null,
   "id": "587f0ca8-c81e-47d3-b42e-4e85297b0261",
   "metadata": {},
   "outputs": [],
   "source": []
  },
  {
   "cell_type": "code",
   "execution_count": 10,
   "id": "0e0fe595-cd88-4086-96f7-c0355736e47b",
   "metadata": {},
   "outputs": [
    {
     "ename": "NoSuchElementException",
     "evalue": "Message: no such element: Unable to locate element: {\"method\":\"xpath\",\"selector\":\"/html/body/div[4]/div[2]/div/div/div/span[21]/button\"}\n  (Session info: chrome=138.0.7204.101); For documentation on this error, please visit: https://www.selenium.dev/documentation/webdriver/troubleshooting/errors#no-such-element-exception\nStacktrace:\n\tGetHandleVerifier [0x0x5944a3+62419]\n\tGetHandleVerifier [0x0x5944e4+62484]\n\t(No symbol) [0x0x3d2133]\n\t(No symbol) [0x0x41a8fe]\n\t(No symbol) [0x0x41ac9b]\n\t(No symbol) [0x0x463052]\n\t(No symbol) [0x0x43f4b4]\n\t(No symbol) [0x0x46087a]\n\t(No symbol) [0x0x43f266]\n\t(No symbol) [0x0x40e852]\n\t(No symbol) [0x0x40f6f4]\n\tGetHandleVerifier [0x0x804793+2619075]\n\tGetHandleVerifier [0x0x7ffbaa+2599642]\n\tGetHandleVerifier [0x0x5bb04a+221050]\n\tGetHandleVerifier [0x0x5ab2c8+156152]\n\tGetHandleVerifier [0x0x5b1c7d+183213]\n\tGetHandleVerifier [0x0x59c388+94904]\n\tGetHandleVerifier [0x0x59c512+95298]\n\tGetHandleVerifier [0x0x58766a+9626]\n\tBaseThreadInitThunk [0x0x76e5fcc9+25]\n\tRtlGetAppContainerNamedObjectPath [0x0x771c82ae+286]\n\tRtlGetAppContainerNamedObjectPath [0x0x771c827e+238]\n",
     "output_type": "error",
     "traceback": [
      "\u001b[1;31m---------------------------------------------------------------------------\u001b[0m",
      "\u001b[1;31mNoSuchElementException\u001b[0m                    Traceback (most recent call last)",
      "Cell \u001b[1;32mIn[10], line 2\u001b[0m\n\u001b[0;32m      1\u001b[0m \u001b[38;5;28;01mfor\u001b[39;00m idx2 \u001b[38;5;129;01min\u001b[39;00m \u001b[38;5;28mrange\u001b[39m(\u001b[38;5;241m0\u001b[39m,\u001b[38;5;241m56\u001b[39m):\n\u001b[1;32m----> 2\u001b[0m     elem \u001b[38;5;241m=\u001b[39m driver\u001b[38;5;241m.\u001b[39mfind_element(\u001b[38;5;124m\"\u001b[39m\u001b[38;5;124mxpath\u001b[39m\u001b[38;5;124m\"\u001b[39m, \u001b[38;5;124m\"\u001b[39m\u001b[38;5;124m/html/body/div[4]/div[2]/div/div/div/span[21]/button\u001b[39m\u001b[38;5;124m\"\u001b[39m)\n\u001b[0;32m      3\u001b[0m     elem\u001b[38;5;241m.\u001b[39mclick()\n\u001b[0;32m      4\u001b[0m     time\u001b[38;5;241m.\u001b[39msleep(random\u001b[38;5;241m.\u001b[39muniform(\u001b[38;5;241m3\u001b[39m,\u001b[38;5;241m6\u001b[39m))\n",
      "File \u001b[1;32m~\\anaconda3\\Lib\\site-packages\\selenium\\webdriver\\remote\\webdriver.py:748\u001b[0m, in \u001b[0;36mWebDriver.find_element\u001b[1;34m(self, by, value)\u001b[0m\n\u001b[0;32m    745\u001b[0m     by \u001b[38;5;241m=\u001b[39m By\u001b[38;5;241m.\u001b[39mCSS_SELECTOR\n\u001b[0;32m    746\u001b[0m     value \u001b[38;5;241m=\u001b[39m \u001b[38;5;124mf\u001b[39m\u001b[38;5;124m'\u001b[39m\u001b[38;5;124m[name=\u001b[39m\u001b[38;5;124m\"\u001b[39m\u001b[38;5;132;01m{\u001b[39;00mvalue\u001b[38;5;132;01m}\u001b[39;00m\u001b[38;5;124m\"\u001b[39m\u001b[38;5;124m]\u001b[39m\u001b[38;5;124m'\u001b[39m\n\u001b[1;32m--> 748\u001b[0m \u001b[38;5;28;01mreturn\u001b[39;00m \u001b[38;5;28mself\u001b[39m\u001b[38;5;241m.\u001b[39mexecute(Command\u001b[38;5;241m.\u001b[39mFIND_ELEMENT, {\u001b[38;5;124m\"\u001b[39m\u001b[38;5;124musing\u001b[39m\u001b[38;5;124m\"\u001b[39m: by, \u001b[38;5;124m\"\u001b[39m\u001b[38;5;124mvalue\u001b[39m\u001b[38;5;124m\"\u001b[39m: value})[\u001b[38;5;124m\"\u001b[39m\u001b[38;5;124mvalue\u001b[39m\u001b[38;5;124m\"\u001b[39m]\n",
      "File \u001b[1;32m~\\anaconda3\\Lib\\site-packages\\selenium\\webdriver\\remote\\webdriver.py:354\u001b[0m, in \u001b[0;36mWebDriver.execute\u001b[1;34m(self, driver_command, params)\u001b[0m\n\u001b[0;32m    352\u001b[0m response \u001b[38;5;241m=\u001b[39m \u001b[38;5;28mself\u001b[39m\u001b[38;5;241m.\u001b[39mcommand_executor\u001b[38;5;241m.\u001b[39mexecute(driver_command, params)\n\u001b[0;32m    353\u001b[0m \u001b[38;5;28;01mif\u001b[39;00m response:\n\u001b[1;32m--> 354\u001b[0m     \u001b[38;5;28mself\u001b[39m\u001b[38;5;241m.\u001b[39merror_handler\u001b[38;5;241m.\u001b[39mcheck_response(response)\n\u001b[0;32m    355\u001b[0m     response[\u001b[38;5;124m\"\u001b[39m\u001b[38;5;124mvalue\u001b[39m\u001b[38;5;124m\"\u001b[39m] \u001b[38;5;241m=\u001b[39m \u001b[38;5;28mself\u001b[39m\u001b[38;5;241m.\u001b[39m_unwrap_value(response\u001b[38;5;241m.\u001b[39mget(\u001b[38;5;124m\"\u001b[39m\u001b[38;5;124mvalue\u001b[39m\u001b[38;5;124m\"\u001b[39m, \u001b[38;5;28;01mNone\u001b[39;00m))\n\u001b[0;32m    356\u001b[0m     \u001b[38;5;28;01mreturn\u001b[39;00m response\n",
      "File \u001b[1;32m~\\anaconda3\\Lib\\site-packages\\selenium\\webdriver\\remote\\errorhandler.py:229\u001b[0m, in \u001b[0;36mErrorHandler.check_response\u001b[1;34m(self, response)\u001b[0m\n\u001b[0;32m    227\u001b[0m         alert_text \u001b[38;5;241m=\u001b[39m value[\u001b[38;5;124m\"\u001b[39m\u001b[38;5;124malert\u001b[39m\u001b[38;5;124m\"\u001b[39m]\u001b[38;5;241m.\u001b[39mget(\u001b[38;5;124m\"\u001b[39m\u001b[38;5;124mtext\u001b[39m\u001b[38;5;124m\"\u001b[39m)\n\u001b[0;32m    228\u001b[0m     \u001b[38;5;28;01mraise\u001b[39;00m exception_class(message, screen, stacktrace, alert_text)  \u001b[38;5;66;03m# type: ignore[call-arg]  # mypy is not smart enough here\u001b[39;00m\n\u001b[1;32m--> 229\u001b[0m \u001b[38;5;28;01mraise\u001b[39;00m exception_class(message, screen, stacktrace)\n",
      "\u001b[1;31mNoSuchElementException\u001b[0m: Message: no such element: Unable to locate element: {\"method\":\"xpath\",\"selector\":\"/html/body/div[4]/div[2]/div/div/div/span[21]/button\"}\n  (Session info: chrome=138.0.7204.101); For documentation on this error, please visit: https://www.selenium.dev/documentation/webdriver/troubleshooting/errors#no-such-element-exception\nStacktrace:\n\tGetHandleVerifier [0x0x5944a3+62419]\n\tGetHandleVerifier [0x0x5944e4+62484]\n\t(No symbol) [0x0x3d2133]\n\t(No symbol) [0x0x41a8fe]\n\t(No symbol) [0x0x41ac9b]\n\t(No symbol) [0x0x463052]\n\t(No symbol) [0x0x43f4b4]\n\t(No symbol) [0x0x46087a]\n\t(No symbol) [0x0x43f266]\n\t(No symbol) [0x0x40e852]\n\t(No symbol) [0x0x40f6f4]\n\tGetHandleVerifier [0x0x804793+2619075]\n\tGetHandleVerifier [0x0x7ffbaa+2599642]\n\tGetHandleVerifier [0x0x5bb04a+221050]\n\tGetHandleVerifier [0x0x5ab2c8+156152]\n\tGetHandleVerifier [0x0x5b1c7d+183213]\n\tGetHandleVerifier [0x0x59c388+94904]\n\tGetHandleVerifier [0x0x59c512+95298]\n\tGetHandleVerifier [0x0x58766a+9626]\n\tBaseThreadInitThunk [0x0x76e5fcc9+25]\n\tRtlGetAppContainerNamedObjectPath [0x0x771c82ae+286]\n\tRtlGetAppContainerNamedObjectPath [0x0x771c827e+238]\n"
     ]
    }
   ],
   "source": [
    "  \n",
    "    for idx in range(0,24):\n",
    "        elem = driver.find_element(\"xpath\", \"/html/body/div[4]/div[2]/div/div/div[2]/main/div/div[3]/a[\" + str(idx + 1) + \"]/span/span[1]\")\n",
    "        product_name = elem.text\n",
    "        print(product_name)\n",
    "        time.sleep(random.uniform(3,5))\n",
    "        #상품명 프린트\n",
    "    \n",
    "    \n",
    "        elem = driver.find_element(\"xpath\", \"/html/body/div[4]/div[2]/div/div/div[2]/main/div/div[3]/a[\" + str(idx+1)+ \"]/span/span[3]\")\n",
    "        price = elem.text\n",
    "        time.sleep(random.uniform(3,5))\n",
    "        print(price)\n",
    "        #상품가 프린트와 가격 숫자로 변환  \n",
    "    \n",
    "        \n",
    "        elem = driver.find_element(\"xpath\", \"/html/body/div[4]/div[2]/div/div/div[2]/main/div/div[3]/a[\" + str(idx+1) +\"]/span/span[2]/span\")\n",
    "        grade_review = elem.text\n",
    "        print(grade_review)\n",
    "        time.sleep(random.uniform(3,5))\n",
    "        #평점 및 리뷰수 프린트\n",
    "    \n",
    "        \n",
    "        # 상품명 가져오기\n",
    "        elem = driver.find_element(\"xpath\", \"/html/body/div[4]/div[2]/div/div/div[2]/main/div/div[3]/a[\" + str(idx + 1) + \"]/span/span[1]\")\n",
    "        product_name = elem.text\n",
    "        print(product_name)\n",
    "    \n",
    "        \n",
    "        # 이미지 정보 가져오기\n",
    "        elem = driver.find_element(\"xpath\", \"/html/body/div[4]/div[2]/div/div/div[2]/main/div/div[3]/a[\"+ str(idx + 1) + \"]/div/div/img\")\n",
    "        img_url = elem.get_attribute('src')\n",
    "    \n",
    "        \n",
    "        # 상품명을 파일명으로 사용 (파일명에 사용할 수 없는 문자 제거)\n",
    "        safe_product_name = product_name.replace(\"/\", \"_\").replace(\"\\\\\", \"_\").replace(\":\", \"_\").replace(\"*\", \"_\").replace(\"?\", \"_\").replace(\"\\\"\", \"_\").replace(\"<\", \"_\").replace(\">\", \"_\").replace(\"|\", \"_\")\n",
    "    \n",
    "        \n",
    "        # 이미지 경로 설정\n",
    "        img_path = os.path.abspath(\"\") + \"/myrealtripthumb_img/\" + safe_product_name + \".png\"\n",
    "    \n",
    "        \n",
    "        # 이미지 다운로드\n",
    "        urllib.request.urlretrieve(img_url, img_path)\n",
    "    \n",
    "        \n",
    "        CURRENT_URL = driver.current_url\n",
    "        print(CURRENT_URL)\n",
    "        #현재 페이지 url\n",
    "\n",
    "        \n",
    "        time.sleep(random.uniform(3, 5))"
   ]
  },
  {
   "cell_type": "code",
   "execution_count": null,
   "id": "fb1ee830-1178-4151-b842-66adaaee0da1",
   "metadata": {},
   "outputs": [],
   "source": []
  },
  {
   "cell_type": "code",
   "execution_count": null,
   "id": "3fd20c39-b6c7-4067-b59e-37cff8f3b07d",
   "metadata": {},
   "outputs": [],
   "source": []
  },
  {
   "cell_type": "code",
   "execution_count": null,
   "id": "948faf56-a2da-4db1-a140-fd38c004eed2",
   "metadata": {},
   "outputs": [],
   "source": [
    "   CURRENT_URL = driver.current_url\n",
    "        print(CURRENT_URL)\n",
    "        #현재 페이지 url"
   ]
  },
  {
   "cell_type": "code",
   "execution_count": null,
   "id": "d9049152-2e01-4f03-a3e3-f3d4b68079fd",
   "metadata": {},
   "outputs": [],
   "source": []
  },
  {
   "cell_type": "code",
   "execution_count": null,
   "id": "fedc69cb-b705-4ab0-98ba-f29cee53f3b7",
   "metadata": {},
   "outputs": [],
   "source": []
  },
  {
   "cell_type": "code",
   "execution_count": null,
   "id": "2d0a92df-8817-4c8f-bf60-226c32510cf1",
   "metadata": {},
   "outputs": [],
   "source": []
  }
 ],
 "metadata": {
  "kernelspec": {
   "display_name": "Python 3 (ipykernel)",
   "language": "python",
   "name": "python3"
  },
  "language_info": {
   "codemirror_mode": {
    "name": "ipython",
    "version": 3
   },
   "file_extension": ".py",
   "mimetype": "text/x-python",
   "name": "python",
   "nbconvert_exporter": "python",
   "pygments_lexer": "ipython3",
   "version": "3.12.7"
  }
 },
 "nbformat": 4,
 "nbformat_minor": 5
}
