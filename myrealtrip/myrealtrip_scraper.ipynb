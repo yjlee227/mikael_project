{
 "cells": [
  {
   "cell_type": "code",
   "execution_count": 27,
   "id": "b23a5273-2e16-47c0-932b-e9f14c1ff5b9",
   "metadata": {},
   "outputs": [
    {
     "name": "stdout",
     "output_type": "stream",
     "text": [
      "4.25.0\n",
      "Windows\n"
     ]
    },
    {
     "data": {
      "text/plain": [
       "{}"
      ]
     },
     "execution_count": 27,
     "metadata": {},
     "output_type": "execute_result"
    }
   ],
   "source": [
    "# #--- 초기 패키지 설치(아래 코드가 안될때도 실행) ---#\n",
    "\n",
    "# # (240424) 코드 일부 업데이트되었습니다.\n",
    "\n",
    "#!python -m pip install --upgrade pip\n",
    "#!pip uninstall selenium -y\n",
    "#!pip install selenium==4.25.0\n",
    "\n",
    "\n",
    "#!pip uninstall webdriver-manager -y\n",
    "#!pip install webdriver-manager -U\n",
    "\n",
    "#!pip uninstall undetected_chromedriver -y\n",
    "#!pip install undetected_chromedriver -U\n",
    "#!pip install user_agents\n",
    "\n",
    "#!pip install pyperclip\n",
    "\n",
    "#!pip install chromedriver_autoinstaller\n",
    "\n",
    "\n",
    "\n",
    "#--- 라이브러리 import ---#\n",
    "import pandas as pd\n",
    "# DataFrame을 컨트롤하는 라이브러리\n",
    "\n",
    "import warnings, os, time, shutil, urllib, random\n",
    "# warnings : 파이썬 경고 제어\n",
    "# os : 경로 또는 파일 제어\n",
    "# time : 시간 제어(일정시간 delay등)\n",
    "# shutil : os의 폴더 제어(생성/삭제)\n",
    "# urlib : 특정 url에서 이미지를 받을때 사용\n",
    "\n",
    "warnings.filterwarnings(action='ignore')\n",
    "# 파이썬에서 불필요한 warning은 안뜨게 함\n",
    "\n",
    "from PIL import Image\n",
    "# 파이썬에서 이미지를 다룰때 사용(png등을 불러들여서 리사이즈 저장 등)\n",
    "\n",
    "from selenium.webdriver.chrome.service import Service as ChromeService\n",
    "from webdriver_manager.chrome import ChromeDriverManager\n",
    "from selenium.webdriver.common.by import By\n",
    "from selenium.webdriver.common.keys import Keys\n",
    "# Keys.ARROW_DOWN , Keys.ARROW_LEFT , Keys.ARROW_RIGHT, Keys.ARROW_UP , Keys.BACK_SPACE , Keys.CONTROL, Keys.ALT , Keys.DELETE , \n",
    "# Keys.ENTER , Keys.SHIFT, Keys.SPACE , Keys.TAB , Keys.EQUALS , Keys.ESCAPE, Keys.HOME , Keys.INSERT , PgUp Key,  Keys.PAGE_UP,\n",
    "# Keys.PAGE_DOWN , Keys.F1 , Keys.F2 , Keys.F3 , Keys.F4, Keys.F5 , Keys.F6 , Keys.F7 , Keys.F8 , Keys.F9 , Keys.F10, Keys.F11 , Keys.F12\n",
    "from selenium.webdriver import ActionChains\n",
    "\n",
    "#--- 크롬 드라이버 실행 ---#\n",
    "import chromedriver_autoinstaller, random, os\n",
    "chromedriver_autoinstaller.install()\n",
    "\n",
    "import undetected_chromedriver as uc\n",
    "from user_agents import parse\n",
    "\n",
    "import selenium\n",
    "print(selenium.__version__)\n",
    "\n",
    "\n",
    "def make_user_agent(ua,is_mobile):\n",
    "    user_agent = parse(ua)\n",
    "    model = user_agent.device.model\n",
    "    platform = user_agent.os.family\n",
    "    platform_version = user_agent.os.version_string + \".0.0\"\n",
    "    version = user_agent.browser.version[0]\n",
    "    ua_full_version = user_agent.browser.version_string\n",
    "    architecture = \"x86\"\n",
    "    print(platform)\n",
    "    if is_mobile:\n",
    "        platform_info = \"Linux armv8l\"\n",
    "        architecture= \"\"\n",
    "    else: # Window\n",
    "        platform_info = \"Win32\"\n",
    "        model = \"\"\n",
    "    RET_USER_AGENT = {\n",
    "        \"appVersion\" : ua.replace(\"Mozilla/\", \"\"),\n",
    "        \"userAgent\": ua,\n",
    "        \"platform\" : f\"{platform_info}\",\n",
    "        \"acceptLanguage\" : \"ko-KR, kr, en-US, en\",\n",
    "        \"userAgentMetadata\":{\n",
    "            \"brands\" : [\n",
    "                {\"brand\":\"Google Chrome\", \"version\":f\"{version}\"},\n",
    "                {\"brand\":\"Chromium\", \"version\":f\"{version}\"},\n",
    "                {\"brand\":\" Not A;Brand\", \"version\":\"99\"}\n",
    "            ],\n",
    "            \"fullVersionList\" : [\n",
    "                {\"brand\":\"Google Chrome\", \"version\":f\"{version}\"},\n",
    "                {\"brand\":\"Chromium\", \"version\":f\"{version}\"},\n",
    "                {\"brand\":\" Not A;Brand\", \"version\":\"99\"}\n",
    "            ],\n",
    "            \"fullVersion\":f\"{ua_full_version}\",\n",
    "            \"platform\" :platform,\n",
    "            \"platformVersion\":platform_version,\n",
    "            \"architecture\":architecture,\n",
    "            \"model\" : model,\n",
    "            \"mobile\":is_mobile #True, False\n",
    "        }\n",
    "    }\n",
    "    return RET_USER_AGENT\n",
    "\n",
    "\n",
    "def generate_random_geolocation():\n",
    "    ltop_lat = 37.75415601640249\n",
    "    ltop_long = 126.86767642302573\n",
    "    rbottom_lat = 37.593829172663945\n",
    "    rbottom_long = 127.15276051439332\n",
    "\n",
    "    targetLat = random.uniform(rbottom_lat, ltop_lat)\n",
    "    targetLong = random.uniform(ltop_long,rbottom_long)\n",
    "    return {\"latitude\":targetLat, \"longitude\" : targetLong, \"accuracy\":100}\n",
    "\n",
    "\n",
    "options = uc.ChromeOptions()\n",
    "\n",
    "UA = \"Mozilla/5.0 (Windows NT 10.0; Win64; x64) AppleWebKit/537.36 (KHTML, like Gecko) Chrome/122.0.0.0 Safari/537.36 Edg/122.0.0.0\"\n",
    "options.add_argument(f\"--user-agent={UA}\")\n",
    "# User Agent 확인 : https://www.whatismybrowser.com/detect/what-is-my-user-agent/ \n",
    "# [중요] 위에 링크에서 나오는 값을 UA에 넣어줘야 함 \n",
    "\n",
    "rand_user_folder = random.randrange(1,100)\n",
    "raw_path = os.path.abspath(\"cookies\")\n",
    "try:\n",
    "    shutil.rmtree(raw_path)\n",
    "except:\n",
    "    pass\n",
    "os.makedirs(raw_path, exist_ok=True)\n",
    "user_cookie_name = f\"{raw_path}/{rand_user_folder}\"\n",
    "if os.path.exists(user_cookie_name) == False:\n",
    "    os.makedirs(user_cookie_name, exist_ok=True)\n",
    "# options.user_data_dir = user_cookie_name\n",
    "# 쿠키 랜덤 설정\n",
    "\n",
    "\n",
    "try:\n",
    "    driver = uc.Chrome(user_data_dir=user_cookie_name, option = options)\n",
    "except Exception as e:\n",
    "    print('\\n',\"-\"*50,\"\\n\",\"-\"*50,\"\\n\")\n",
    "    print(\"# 키홈 메세지 : 혹시 여기서 에러 발생시 [아래 블로그 참고 -> 재부팅 -> 다시 코드실행] 해보시길 바랍니다! \\n (구글크롬 버젼 업그레이드 문제)\")\n",
    "    print('https://appfollow.tistory.com/102')  # 에러 메시지를 출력\n",
    "    print('\\n',\"-\"*50,\"\\n\",\"-\"*50,\"\\n\")\n",
    "    raise RuntimeError\n",
    "\n",
    "    \n",
    "UA_Data = make_user_agent(UA,False)\n",
    "driver.execute_cdp_cmd(\"Network.setUserAgentOverride\",UA_Data)\n",
    "# # user agent data 설정\n",
    "\n",
    "GEO_DATA = generate_random_geolocation()\n",
    "driver.execute_cdp_cmd(\"Emulation.setGeolocationOverride\", GEO_DATA)\n",
    "driver.execute_cdp_cmd(\"Emulation.setUserAgentOverride\", UA_Data)\n",
    "driver.execute_cdp_cmd(\"Emulation.setNavigatorOverrides\",{\"platform\":\"Linux armv8l\"})"
   ]
  },
  {
   "cell_type": "code",
   "execution_count": 28,
   "id": "6ce8bdd4-d598-4095-a6cc-0d1ec2cfd7e7",
   "metadata": {},
   "outputs": [],
   "source": [
    "# pip install selenium webdriver-manager selenium-stealth"
   ]
  },
  {
   "cell_type": "code",
   "execution_count": 35,
   "id": "3c275abf-0f61-416e-8572-d758b6139a5e",
   "metadata": {},
   "outputs": [],
   "source": [
    "driver.get(\"https://www.myrealtrip.com/experiences/\")\n",
    "time.sleep(random.uniform(3,8))\n",
    "#마이리얼트립 투어/티켓 초기진입 페이지 열기"
   ]
  },
  {
   "cell_type": "code",
   "execution_count": 36,
   "id": "ac752860-0660-4833-9ce5-362df698dea5",
   "metadata": {},
   "outputs": [],
   "source": [
    "elem = driver.find_element(\"xpath\", \"/html/body/main/div/div[2]/section[1]/div[1]/div/div/input\")\n",
    "elem.send_keys(\"방콕\")\n",
    "time.sleep(random.uniform(3,5))\n",
    "#방콕 키워드 입력 "
   ]
  },
  {
   "cell_type": "code",
   "execution_count": 37,
   "id": "03e04fc9-7874-4999-b908-d35a884be6a5",
   "metadata": {},
   "outputs": [],
   "source": [
    "elem = driver.find_element(\"xpath\", \"/html/body/main/div/div[2]/section[1]/div[1]/div/div/div/img\")\n",
    "elem.click()\n",
    "time.sleep(random.uniform(3,5))\n",
    "# 검색 클릭"
   ]
  },
  {
   "cell_type": "code",
   "execution_count": 38,
   "id": "04a0e89a-e54d-4d73-800a-0fa89b422e39",
   "metadata": {},
   "outputs": [
    {
     "ename": "NoSuchElementException",
     "evalue": "Message: no such element: Unable to locate element: {\"method\":\"xpath\",\"selector\":\"/html/body/div[15]/div[2]/button\"}\n  (Session info: chrome=138.0.7204.50); For documentation on this error, please visit: https://www.selenium.dev/documentation/webdriver/troubleshooting/errors#no-such-element-exception\nStacktrace:\n\tGetHandleVerifier [0x0xa344a3+62419]\n\tGetHandleVerifier [0x0xa344e4+62484]\n\t(No symbol) [0x0x872133]\n\t(No symbol) [0x0x8ba8fe]\n\t(No symbol) [0x0x8bac9b]\n\t(No symbol) [0x0x903052]\n\t(No symbol) [0x0x8df4b4]\n\t(No symbol) [0x0x90087a]\n\t(No symbol) [0x0x8df266]\n\t(No symbol) [0x0x8ae852]\n\t(No symbol) [0x0x8af6f4]\n\tGetHandleVerifier [0x0xca4793+2619075]\n\tGetHandleVerifier [0x0xc9fbaa+2599642]\n\tGetHandleVerifier [0x0xa5b04a+221050]\n\tGetHandleVerifier [0x0xa4b2c8+156152]\n\tGetHandleVerifier [0x0xa51c7d+183213]\n\tGetHandleVerifier [0x0xa3c388+94904]\n\tGetHandleVerifier [0x0xa3c512+95298]\n\tGetHandleVerifier [0x0xa2766a+9626]\n\tBaseThreadInitThunk [0x0x76e5fcc9+25]\n\tRtlGetAppContainerNamedObjectPath [0x0x771c82ae+286]\n\tRtlGetAppContainerNamedObjectPath [0x0x771c827e+238]\n",
     "output_type": "error",
     "traceback": [
      "\u001b[1;31m---------------------------------------------------------------------------\u001b[0m",
      "\u001b[1;31mNoSuchElementException\u001b[0m                    Traceback (most recent call last)",
      "Cell \u001b[1;32mIn[38], line 1\u001b[0m\n\u001b[1;32m----> 1\u001b[0m elem \u001b[38;5;241m=\u001b[39m driver\u001b[38;5;241m.\u001b[39mfind_element(\u001b[38;5;124m\"\u001b[39m\u001b[38;5;124mxpath\u001b[39m\u001b[38;5;124m\"\u001b[39m, \u001b[38;5;124m\"\u001b[39m\u001b[38;5;124m/html/body/div[15]/div[2]/button\u001b[39m\u001b[38;5;124m\"\u001b[39m)\n\u001b[0;32m      2\u001b[0m elem\u001b[38;5;241m.\u001b[39mclick()\n\u001b[0;32m      3\u001b[0m time\u001b[38;5;241m.\u001b[39msleep(random\u001b[38;5;241m.\u001b[39muniform(\u001b[38;5;241m3\u001b[39m,\u001b[38;5;241m5\u001b[39m))\n",
      "File \u001b[1;32m~\\anaconda3\\Lib\\site-packages\\selenium\\webdriver\\remote\\webdriver.py:748\u001b[0m, in \u001b[0;36mWebDriver.find_element\u001b[1;34m(self, by, value)\u001b[0m\n\u001b[0;32m    745\u001b[0m     by \u001b[38;5;241m=\u001b[39m By\u001b[38;5;241m.\u001b[39mCSS_SELECTOR\n\u001b[0;32m    746\u001b[0m     value \u001b[38;5;241m=\u001b[39m \u001b[38;5;124mf\u001b[39m\u001b[38;5;124m'\u001b[39m\u001b[38;5;124m[name=\u001b[39m\u001b[38;5;124m\"\u001b[39m\u001b[38;5;132;01m{\u001b[39;00mvalue\u001b[38;5;132;01m}\u001b[39;00m\u001b[38;5;124m\"\u001b[39m\u001b[38;5;124m]\u001b[39m\u001b[38;5;124m'\u001b[39m\n\u001b[1;32m--> 748\u001b[0m \u001b[38;5;28;01mreturn\u001b[39;00m \u001b[38;5;28mself\u001b[39m\u001b[38;5;241m.\u001b[39mexecute(Command\u001b[38;5;241m.\u001b[39mFIND_ELEMENT, {\u001b[38;5;124m\"\u001b[39m\u001b[38;5;124musing\u001b[39m\u001b[38;5;124m\"\u001b[39m: by, \u001b[38;5;124m\"\u001b[39m\u001b[38;5;124mvalue\u001b[39m\u001b[38;5;124m\"\u001b[39m: value})[\u001b[38;5;124m\"\u001b[39m\u001b[38;5;124mvalue\u001b[39m\u001b[38;5;124m\"\u001b[39m]\n",
      "File \u001b[1;32m~\\anaconda3\\Lib\\site-packages\\selenium\\webdriver\\remote\\webdriver.py:354\u001b[0m, in \u001b[0;36mWebDriver.execute\u001b[1;34m(self, driver_command, params)\u001b[0m\n\u001b[0;32m    352\u001b[0m response \u001b[38;5;241m=\u001b[39m \u001b[38;5;28mself\u001b[39m\u001b[38;5;241m.\u001b[39mcommand_executor\u001b[38;5;241m.\u001b[39mexecute(driver_command, params)\n\u001b[0;32m    353\u001b[0m \u001b[38;5;28;01mif\u001b[39;00m response:\n\u001b[1;32m--> 354\u001b[0m     \u001b[38;5;28mself\u001b[39m\u001b[38;5;241m.\u001b[39merror_handler\u001b[38;5;241m.\u001b[39mcheck_response(response)\n\u001b[0;32m    355\u001b[0m     response[\u001b[38;5;124m\"\u001b[39m\u001b[38;5;124mvalue\u001b[39m\u001b[38;5;124m\"\u001b[39m] \u001b[38;5;241m=\u001b[39m \u001b[38;5;28mself\u001b[39m\u001b[38;5;241m.\u001b[39m_unwrap_value(response\u001b[38;5;241m.\u001b[39mget(\u001b[38;5;124m\"\u001b[39m\u001b[38;5;124mvalue\u001b[39m\u001b[38;5;124m\"\u001b[39m, \u001b[38;5;28;01mNone\u001b[39;00m))\n\u001b[0;32m    356\u001b[0m     \u001b[38;5;28;01mreturn\u001b[39;00m response\n",
      "File \u001b[1;32m~\\anaconda3\\Lib\\site-packages\\selenium\\webdriver\\remote\\errorhandler.py:229\u001b[0m, in \u001b[0;36mErrorHandler.check_response\u001b[1;34m(self, response)\u001b[0m\n\u001b[0;32m    227\u001b[0m         alert_text \u001b[38;5;241m=\u001b[39m value[\u001b[38;5;124m\"\u001b[39m\u001b[38;5;124malert\u001b[39m\u001b[38;5;124m\"\u001b[39m]\u001b[38;5;241m.\u001b[39mget(\u001b[38;5;124m\"\u001b[39m\u001b[38;5;124mtext\u001b[39m\u001b[38;5;124m\"\u001b[39m)\n\u001b[0;32m    228\u001b[0m     \u001b[38;5;28;01mraise\u001b[39;00m exception_class(message, screen, stacktrace, alert_text)  \u001b[38;5;66;03m# type: ignore[call-arg]  # mypy is not smart enough here\u001b[39;00m\n\u001b[1;32m--> 229\u001b[0m \u001b[38;5;28;01mraise\u001b[39;00m exception_class(message, screen, stacktrace)\n",
      "\u001b[1;31mNoSuchElementException\u001b[0m: Message: no such element: Unable to locate element: {\"method\":\"xpath\",\"selector\":\"/html/body/div[15]/div[2]/button\"}\n  (Session info: chrome=138.0.7204.50); For documentation on this error, please visit: https://www.selenium.dev/documentation/webdriver/troubleshooting/errors#no-such-element-exception\nStacktrace:\n\tGetHandleVerifier [0x0xa344a3+62419]\n\tGetHandleVerifier [0x0xa344e4+62484]\n\t(No symbol) [0x0x872133]\n\t(No symbol) [0x0x8ba8fe]\n\t(No symbol) [0x0x8bac9b]\n\t(No symbol) [0x0x903052]\n\t(No symbol) [0x0x8df4b4]\n\t(No symbol) [0x0x90087a]\n\t(No symbol) [0x0x8df266]\n\t(No symbol) [0x0x8ae852]\n\t(No symbol) [0x0x8af6f4]\n\tGetHandleVerifier [0x0xca4793+2619075]\n\tGetHandleVerifier [0x0xc9fbaa+2599642]\n\tGetHandleVerifier [0x0xa5b04a+221050]\n\tGetHandleVerifier [0x0xa4b2c8+156152]\n\tGetHandleVerifier [0x0xa51c7d+183213]\n\tGetHandleVerifier [0x0xa3c388+94904]\n\tGetHandleVerifier [0x0xa3c512+95298]\n\tGetHandleVerifier [0x0xa2766a+9626]\n\tBaseThreadInitThunk [0x0x76e5fcc9+25]\n\tRtlGetAppContainerNamedObjectPath [0x0x771c82ae+286]\n\tRtlGetAppContainerNamedObjectPath [0x0x771c827e+238]\n"
     ]
    }
   ],
   "source": [
    "elem = driver.find_element(\"xpath\", \"/html/body/div[15]/div[2]/button\")\n",
    "elem.click()\n",
    "time.sleep(random.uniform(3,5))\n",
    "# 팝업창 X 클릭"
   ]
  },
  {
   "cell_type": "code",
   "execution_count": 39,
   "id": "7811ac79-dd3b-4ca8-870e-c14a2f6531da",
   "metadata": {},
   "outputs": [],
   "source": [
    "elem = driver.find_element(\"xpath\", \"/html/body/div[4]/div[2]/div/div/div/span[2]/button/span[2]\")\n",
    "elem.click()\n",
    "time.sleep(random.uniform(3,6))\n",
    "#시내투어 클릭"
   ]
  },
  {
   "cell_type": "code",
   "execution_count": 25,
   "id": "cef3ba80-772d-4c90-8883-983793cf7b7d",
   "metadata": {},
   "outputs": [
    {
     "name": "stdout",
     "output_type": "stream",
     "text": [
      "[감성은 플로팅, 긴장은 레일 위★] 담넌사두억+매끌렁 반일투어 (아속)\n",
      "22,015원\n",
      "상품 정보\n",
      "포함 사항\n",
      "• 왕복 픽업 차량\n",
      "• 한국어 가능한 태국인 가이드\n",
      "• 기차표\n",
      "불포함 사항\n",
      "• 담넌사두억 배값 150바트 (1인당)\n",
      "• 매너팁 (투어 만족 시 여행객 팀당 100~200 정도)\n",
      "4.8\n",
      "(1,991)\n",
      "한국어\n",
      "https://www.myrealtrip.com/offers/22027\n",
      "뒤로가기 후 페이지: https://www.myrealtrip.com/offers?t=llp&qct=Bangkok&qcr=Thailand&ext_categories=sinae_tour\n"
     ]
    },
    {
     "ename": "NoSuchElementException",
     "evalue": "Message: no such element: Unable to locate element: {\"method\":\"xpath\",\"selector\":\"/html/body/main/div[3]/div[2]/div[2]/div/article/header/h1\"}\n  (Session info: chrome=138.0.7204.50); For documentation on this error, please visit: https://www.selenium.dev/documentation/webdriver/troubleshooting/errors#no-such-element-exception\nStacktrace:\n\tGetHandleVerifier [0x0xa344a3+62419]\n\tGetHandleVerifier [0x0xa344e4+62484]\n\t(No symbol) [0x0x872133]\n\t(No symbol) [0x0x8ba8fe]\n\t(No symbol) [0x0x8bac9b]\n\t(No symbol) [0x0x903052]\n\t(No symbol) [0x0x8df4b4]\n\t(No symbol) [0x0x90087a]\n\t(No symbol) [0x0x8df266]\n\t(No symbol) [0x0x8ae852]\n\t(No symbol) [0x0x8af6f4]\n\tGetHandleVerifier [0x0xca4793+2619075]\n\tGetHandleVerifier [0x0xc9fbaa+2599642]\n\tGetHandleVerifier [0x0xa5b04a+221050]\n\tGetHandleVerifier [0x0xa4b2c8+156152]\n\tGetHandleVerifier [0x0xa51c7d+183213]\n\tGetHandleVerifier [0x0xa3c388+94904]\n\tGetHandleVerifier [0x0xa3c512+95298]\n\tGetHandleVerifier [0x0xa2766a+9626]\n\tBaseThreadInitThunk [0x0x76e5fcc9+25]\n\tRtlGetAppContainerNamedObjectPath [0x0x771c82ae+286]\n\tRtlGetAppContainerNamedObjectPath [0x0x771c827e+238]\n",
     "output_type": "error",
     "traceback": [
      "\u001b[1;31m---------------------------------------------------------------------------\u001b[0m",
      "\u001b[1;31mNoSuchElementException\u001b[0m                    Traceback (most recent call last)",
      "Cell \u001b[1;32mIn[25], line 7\u001b[0m\n\u001b[0;32m      4\u001b[0m time\u001b[38;5;241m.\u001b[39msleep(random\u001b[38;5;241m.\u001b[39muniform(\u001b[38;5;241m3\u001b[39m,\u001b[38;5;241m5\u001b[39m))\n\u001b[0;32m      5\u001b[0m \u001b[38;5;66;03m#1번상품 클릭\u001b[39;00m\n\u001b[1;32m----> 7\u001b[0m elem \u001b[38;5;241m=\u001b[39m driver\u001b[38;5;241m.\u001b[39mfind_element(\u001b[38;5;124m\"\u001b[39m\u001b[38;5;124mxpath\u001b[39m\u001b[38;5;124m\"\u001b[39m, \u001b[38;5;124m\"\u001b[39m\u001b[38;5;124m/html/body/main/div[3]/div[2]/div[2]/div/article/header/h1\u001b[39m\u001b[38;5;124m\"\u001b[39m)\n\u001b[0;32m      8\u001b[0m product_name \u001b[38;5;241m=\u001b[39m elem\u001b[38;5;241m.\u001b[39mtext\n\u001b[0;32m      9\u001b[0m \u001b[38;5;28mprint\u001b[39m(product_name)\n",
      "File \u001b[1;32m~\\anaconda3\\Lib\\site-packages\\selenium\\webdriver\\remote\\webdriver.py:748\u001b[0m, in \u001b[0;36mWebDriver.find_element\u001b[1;34m(self, by, value)\u001b[0m\n\u001b[0;32m    745\u001b[0m     by \u001b[38;5;241m=\u001b[39m By\u001b[38;5;241m.\u001b[39mCSS_SELECTOR\n\u001b[0;32m    746\u001b[0m     value \u001b[38;5;241m=\u001b[39m \u001b[38;5;124mf\u001b[39m\u001b[38;5;124m'\u001b[39m\u001b[38;5;124m[name=\u001b[39m\u001b[38;5;124m\"\u001b[39m\u001b[38;5;132;01m{\u001b[39;00mvalue\u001b[38;5;132;01m}\u001b[39;00m\u001b[38;5;124m\"\u001b[39m\u001b[38;5;124m]\u001b[39m\u001b[38;5;124m'\u001b[39m\n\u001b[1;32m--> 748\u001b[0m \u001b[38;5;28;01mreturn\u001b[39;00m \u001b[38;5;28mself\u001b[39m\u001b[38;5;241m.\u001b[39mexecute(Command\u001b[38;5;241m.\u001b[39mFIND_ELEMENT, {\u001b[38;5;124m\"\u001b[39m\u001b[38;5;124musing\u001b[39m\u001b[38;5;124m\"\u001b[39m: by, \u001b[38;5;124m\"\u001b[39m\u001b[38;5;124mvalue\u001b[39m\u001b[38;5;124m\"\u001b[39m: value})[\u001b[38;5;124m\"\u001b[39m\u001b[38;5;124mvalue\u001b[39m\u001b[38;5;124m\"\u001b[39m]\n",
      "File \u001b[1;32m~\\anaconda3\\Lib\\site-packages\\selenium\\webdriver\\remote\\webdriver.py:354\u001b[0m, in \u001b[0;36mWebDriver.execute\u001b[1;34m(self, driver_command, params)\u001b[0m\n\u001b[0;32m    352\u001b[0m response \u001b[38;5;241m=\u001b[39m \u001b[38;5;28mself\u001b[39m\u001b[38;5;241m.\u001b[39mcommand_executor\u001b[38;5;241m.\u001b[39mexecute(driver_command, params)\n\u001b[0;32m    353\u001b[0m \u001b[38;5;28;01mif\u001b[39;00m response:\n\u001b[1;32m--> 354\u001b[0m     \u001b[38;5;28mself\u001b[39m\u001b[38;5;241m.\u001b[39merror_handler\u001b[38;5;241m.\u001b[39mcheck_response(response)\n\u001b[0;32m    355\u001b[0m     response[\u001b[38;5;124m\"\u001b[39m\u001b[38;5;124mvalue\u001b[39m\u001b[38;5;124m\"\u001b[39m] \u001b[38;5;241m=\u001b[39m \u001b[38;5;28mself\u001b[39m\u001b[38;5;241m.\u001b[39m_unwrap_value(response\u001b[38;5;241m.\u001b[39mget(\u001b[38;5;124m\"\u001b[39m\u001b[38;5;124mvalue\u001b[39m\u001b[38;5;124m\"\u001b[39m, \u001b[38;5;28;01mNone\u001b[39;00m))\n\u001b[0;32m    356\u001b[0m     \u001b[38;5;28;01mreturn\u001b[39;00m response\n",
      "File \u001b[1;32m~\\anaconda3\\Lib\\site-packages\\selenium\\webdriver\\remote\\errorhandler.py:229\u001b[0m, in \u001b[0;36mErrorHandler.check_response\u001b[1;34m(self, response)\u001b[0m\n\u001b[0;32m    227\u001b[0m         alert_text \u001b[38;5;241m=\u001b[39m value[\u001b[38;5;124m\"\u001b[39m\u001b[38;5;124malert\u001b[39m\u001b[38;5;124m\"\u001b[39m]\u001b[38;5;241m.\u001b[39mget(\u001b[38;5;124m\"\u001b[39m\u001b[38;5;124mtext\u001b[39m\u001b[38;5;124m\"\u001b[39m)\n\u001b[0;32m    228\u001b[0m     \u001b[38;5;28;01mraise\u001b[39;00m exception_class(message, screen, stacktrace, alert_text)  \u001b[38;5;66;03m# type: ignore[call-arg]  # mypy is not smart enough here\u001b[39;00m\n\u001b[1;32m--> 229\u001b[0m \u001b[38;5;28;01mraise\u001b[39;00m exception_class(message, screen, stacktrace)\n",
      "\u001b[1;31mNoSuchElementException\u001b[0m: Message: no such element: Unable to locate element: {\"method\":\"xpath\",\"selector\":\"/html/body/main/div[3]/div[2]/div[2]/div/article/header/h1\"}\n  (Session info: chrome=138.0.7204.50); For documentation on this error, please visit: https://www.selenium.dev/documentation/webdriver/troubleshooting/errors#no-such-element-exception\nStacktrace:\n\tGetHandleVerifier [0x0xa344a3+62419]\n\tGetHandleVerifier [0x0xa344e4+62484]\n\t(No symbol) [0x0x872133]\n\t(No symbol) [0x0x8ba8fe]\n\t(No symbol) [0x0x8bac9b]\n\t(No symbol) [0x0x903052]\n\t(No symbol) [0x0x8df4b4]\n\t(No symbol) [0x0x90087a]\n\t(No symbol) [0x0x8df266]\n\t(No symbol) [0x0x8ae852]\n\t(No symbol) [0x0x8af6f4]\n\tGetHandleVerifier [0x0xca4793+2619075]\n\tGetHandleVerifier [0x0xc9fbaa+2599642]\n\tGetHandleVerifier [0x0xa5b04a+221050]\n\tGetHandleVerifier [0x0xa4b2c8+156152]\n\tGetHandleVerifier [0x0xa51c7d+183213]\n\tGetHandleVerifier [0x0xa3c388+94904]\n\tGetHandleVerifier [0x0xa3c512+95298]\n\tGetHandleVerifier [0x0xa2766a+9626]\n\tBaseThreadInitThunk [0x0x76e5fcc9+25]\n\tRtlGetAppContainerNamedObjectPath [0x0x771c82ae+286]\n\tRtlGetAppContainerNamedObjectPath [0x0x771c827e+238]\n"
     ]
    }
   ],
   "source": [
    "for idx in range(1,3):\n",
    "        elem = driver.find_element(\"xpath\", \"/html/body/div[4]/div[2]/div/div/div[2]/main/div/div[3]/a[\" + str(idx) + \"]/div/div/img\")\n",
    "        elem.click()\n",
    "        time.sleep(random.uniform(3,5))\n",
    "        #1번상품 클릭\n",
    "        \n",
    "        elem = driver.find_element(\"xpath\", \"/html/body/main/div[3]/div[2]/div[2]/div/article/header/h1\")\n",
    "        product_name = elem.text\n",
    "        print(product_name)\n",
    "        time.sleep(random.uniform(3,5))\n",
    "        #상품명 프린트\n",
    "        \n",
    "        elem = driver.find_element(\"xpath\", \"/html/body/main/div[3]/div[2]/div[2]/div/aside/ul/li[1]/div/div[1]/div[1]/div[1]/div/strong\")\n",
    "        price = elem.text\n",
    "        print(price)\n",
    "        time.sleep(random.uniform(3,5))\n",
    "        #상품가 프린트\n",
    "        \n",
    "        elem = driver.find_element(\"xpath\", \"/html/body/main/div[3]/div[2]/div[2]/div/article/section[5]/div\")\n",
    "        product_info = elem.text\n",
    "        print(product_info)\n",
    "        time.sleep(random.uniform(3,5))\n",
    "        #상품정보 프린트\n",
    "        \n",
    "        elem = driver.find_element(\"xpath\", \"/html/body/main/div[3]/div[2]/div[2]/div/article/header/div[2]/div\")\n",
    "        grade_review = elem.text\n",
    "        print(grade_review)\n",
    "        time.sleep(random.uniform(3,5))\n",
    "        #평점 및 리뷰수 프린트\n",
    "        \n",
    "        elem = driver.find_element(\"xpath\", \"/html/body/main/div[3]/div[2]/div[2]/div/article/ul[2]/li[3]/span\")\n",
    "        language = elem.text\n",
    "        print(language)\n",
    "        time.sleep(random.uniform(3,5))\n",
    "        #언어 프린트\n",
    "        \n",
    "        CURRENT_URL = driver.current_url\n",
    "        print(CURRENT_URL)\n",
    "        \n",
    "        driver.back()\n",
    "        print(f\"뒤로가기 후 페이지: {driver.current_url}\")\n",
    "        time.sleep(2)\n",
    "        #뒤로가기 실행\n",
    "\n"
   ]
  },
  {
   "cell_type": "code",
   "execution_count": 48,
   "id": "a3a6dd46-954c-4da9-b3ca-013e71b38555",
   "metadata": {},
   "outputs": [
    {
     "name": "stdout",
     "output_type": "stream",
     "text": [
      "뒤로가기 후 페이지: https://www.myrealtrip.com/offers?t=llp&qct=Bangkok&qcr=Thailand&ext_categories=sinae_tour\n"
     ]
    }
   ],
   "source": [
    "driver.back()\n",
    "print(f\"뒤로가기 후 페이지: {driver.current_url}\")\n",
    "time.sleep(2)\n",
    "#뒤로가기 실행"
   ]
  },
  {
   "cell_type": "code",
   "execution_count": null,
   "id": "f315ec8b-dd3b-49a1-9c9a-05b58f1fe571",
   "metadata": {},
   "outputs": [],
   "source": []
  },
  {
   "cell_type": "code",
   "execution_count": null,
   "id": "fb079122-6179-4090-94be-5664c4217836",
   "metadata": {},
   "outputs": [],
   "source": []
  }
 ],
 "metadata": {
  "kernelspec": {
   "display_name": "Python 3 (ipykernel)",
   "language": "python",
   "name": "python3"
  },
  "language_info": {
   "codemirror_mode": {
    "name": "ipython",
    "version": 3
   },
   "file_extension": ".py",
   "mimetype": "text/x-python",
   "name": "python",
   "nbconvert_exporter": "python",
   "pygments_lexer": "ipython3",
   "version": "3.12.7"
  }
 },
 "nbformat": 4,
 "nbformat_minor": 5
}
